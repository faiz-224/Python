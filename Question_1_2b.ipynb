{
  "nbformat": 4,
  "nbformat_minor": 0,
  "metadata": {
    "colab": {
      "provenance": [],
      "authorship_tag": "ABX9TyPYDz6dgU4e/Rv844OFNLNj",
      "include_colab_link": true
    },
    "kernelspec": {
      "name": "python3",
      "display_name": "Python 3"
    },
    "language_info": {
      "name": "python"
    }
  },
  "cells": [
    {
      "cell_type": "markdown",
      "metadata": {
        "id": "view-in-github",
        "colab_type": "text"
      },
      "source": [
        "<a href=\"https://colab.research.google.com/github/faiz-224/Python/blob/main/Question_1_2b.ipynb\" target=\"_parent\"><img src=\"https://colab.research.google.com/assets/colab-badge.svg\" alt=\"Open In Colab\"/></a>"
      ]
    },
    {
      "cell_type": "markdown",
      "source": [
        "**1. Topic**\n",
        "\n",
        "Object-Oriented Programming in Python — Abstraction, Inheritance, Method Overriding\n",
        "________________________________________\n",
        "**2. Heading**\n",
        "\n",
        "Abstraction and Inheritance in Car Simulation with Idle Stop Engine Feature\n",
        "________________________________________\n",
        "**3. Code-Based Question**\n",
        "\n",
        "\"Create a Python program that simulates a car with an idle stop engine feature using abstraction principles. Include a subclass (BMW) that overrides the engine start behavior, and simulate a shopping mall basement where the car engine is started directly. Also, provide traffic signal behavior control.\"\n",
        "________________________________________\n",
        "**4. Brief Summary**\n",
        "\n",
        "This program demonstrates OOP concepts in Python, particularly abstraction and inheritance. The Car class encapsulates engine control and traffic signal responses using internal methods (e.g., _start_engine, _idle_stop_engine). The idle stop engine mimics real-world behavior where the engine turns off after idling for a while at a red signal. The BMW subclass overrides the parent's engine start method to customize behavior. The ShoppingMall class simulates direct access to the car's engine.\n",
        "\n"
      ],
      "metadata": {
        "id": "Wp_5ZZdueefX"
      }
    },
    {
      "cell_type": "markdown",
      "source": [
        "**5. Text-Based Use Case Diagram**"
      ],
      "metadata": {
        "id": "2kLZaAL9euS_"
      }
    },
    {
      "cell_type": "code",
      "source": [
        "Actor: User\n",
        "    |\n",
        "    v\n",
        "[Start Program]\n",
        "    |\n",
        "    v\n",
        "[Create Car Object]\n",
        "    |\n",
        "    v\n",
        "[Set Traffic Signal] --> [Red Light] --> [Engine Idles] --> [Engine Stops]\n",
        "    |\n",
        "    --> [Green Light] --> [Start Engine if Off] --> [Drive]\n",
        "    |\n",
        "    v\n",
        "[Stop Car]\n",
        "\n",
        "Actor: Developer\n",
        "    |\n",
        "    v\n",
        "[Create Subclass BMW]\n",
        "    |\n",
        "    v\n",
        "[Override _start_engine()]\n",
        "    |\n",
        "    v\n",
        "[Call Overridden Method]\n",
        "\n",
        "Actor: System\n",
        "    |\n",
        "    v\n",
        "[Automatically Stop Engine after 5 sec Idle]"
      ],
      "metadata": {
        "id": "EeNFsb87e62W"
      },
      "execution_count": null,
      "outputs": []
    },
    {
      "cell_type": "markdown",
      "source": [
        "**6. Text-Based UML Diagram**"
      ],
      "metadata": {
        "id": "QJYeZmNue7v1"
      }
    },
    {
      "cell_type": "code",
      "source": [
        "+-------------------+\n",
        "|      Car          |\n",
        "+-------------------+\n",
        "| - brand: str      |\n",
        "| - model: str      |\n",
        "| - _engine_status  |\n",
        "| - _idling_time    |\n",
        "| - _traffic_signal |\n",
        "+-------------------+\n",
        "| + drive()         |\n",
        "| + stop()          |\n",
        "| + set_traffic_signal(signal) |\n",
        "| - _start_engine() |\n",
        "| - _idle_stop_engine() |\n",
        "+-------------------+\n",
        "\n",
        "           ▲\n",
        "           |\n",
        "           |\n",
        "       +--------+\n",
        "       |  BMW   |\n",
        "       +--------+\n",
        "       | + start_engine()     |\n",
        "       | - _start_engine()    |\n",
        "       +----------------------+\n",
        "\n",
        "+----------------------+\n",
        "|   ShoppingMall       |\n",
        "+----------------------+\n",
        "| + basement_parking() |\n",
        "+----------------------+\n"
      ],
      "metadata": {
        "id": "JoP6BY1je-rG"
      },
      "execution_count": null,
      "outputs": []
    },
    {
      "cell_type": "markdown",
      "source": [
        "**7. Pseudocode**"
      ],
      "metadata": {
        "id": "1ys9oqdwfBqu"
      }
    },
    {
      "cell_type": "markdown",
      "source": [
        "**7.1 Informal Pseudocode (Plain English)**"
      ],
      "metadata": {
        "id": "JsU_5KeWCfNs"
      }
    },
    {
      "cell_type": "code",
      "source": [
        "1.  Define a Car class with brand, model, engine status, idling time, and traffic signal attributes.\n",
        "2.  Create a method drive that:\n",
        "   •\tAllows driving if the engine is on and signal is green.\n",
        "   •\tStops and idles if the signal is red.\n",
        "   •\tStarts the engine if needed.\n",
        "3.  Create a method stop that:\n",
        "   •\tStops the car if it's running and idles the engine.\n",
        "   •\tSays it's already stopped if not running.\n",
        "4.  Create a method set_traffic_signal to update the traffic signal:\n",
        "   •\tIf red, stops and idles engine.\n",
        "   •\tIf green, allows driving and starts engine if it's off.\n",
        "5.  Use internal method _start_engine to turn on the engine.\n",
        "6.  Use internal method _idle_stop_engine to simulate idling for 5 seconds and stop engine to   save fuel.\n",
        "7.  Create an object my_car and demonstrate driving and stopping behavior with traffic signals.\n",
        "8.   Define a ShoppingMall class with a method that accesses Car’s internal method (not recommended practice).\n",
        "9.  Define a BMW class that inherits from Car and overrides the _start_engine method.\n",
        "10.  Create a BMW object and call its engine-starting method.\n"
      ],
      "metadata": {
        "id": "N6YEr0YmfEl-"
      },
      "execution_count": null,
      "outputs": []
    },
    {
      "cell_type": "markdown",
      "source": [
        "**7.2 Flowchart-Oriented Pseudocode (Step-by-Step)**"
      ],
      "metadata": {
        "id": "tf3d1BPEDYJE"
      }
    },
    {
      "cell_type": "code",
      "source": [
        "Step 1: Define Car class with constructor initializing attributes.\n",
        "Step 2: Define drive():\n",
        "\n",
        "  If engine ON and signal is green → Print driving.\n",
        "\n",
        "  Else if red → Print stopped and call _idle_stop_engine().\n",
        "\n",
        "  Else → Call _start_engine() and print driving.\n",
        "\n",
        "Step 3: Define stop():\n",
        "\n",
        "  If engine ON → Print stopped and call _idle_stop_engine().\n",
        "\n",
        "  Else → Print already stopped.\n",
        "\n",
        "Step 4: Define set_traffic_signal(signal):\n",
        "\n",
        "  Set _traffic_signal to input.\n",
        "\n",
        "  If red → Print message and call _idle_stop_engine().\n",
        "\n",
        "  If green → Print message, call _start_engine() if engine is OFF.\n",
        "\n",
        "Step 5: Define _start_engine():\n",
        "\n",
        "  Set _engine_status = True, reset idling time, print message.\n",
        "\n",
        "Step 6: Define _idle_stop_engine():\n",
        "\n",
        "  Simulate 5 seconds idle with loop and time.sleep(1).\n",
        "\n",
        "  If 5 seconds passed, stop engine and print idle stop message.\n",
        "\n",
        "Step 7: Create my_car object, set signal to green, drive, set to red, back to green, drive.\n",
        "\n",
        "Step 8: Define ShoppingMall class:\n",
        "\n",
        "  Inside basement_parking(), create Car object and call _start_engine().\n",
        "\n",
        "Step 9: Define BMW subclass:\n",
        "\n",
        "  Override _start_engine() → print BMW message.\n",
        "\n",
        "  Define start_engine() → call own _start_engine().\n",
        "\n",
        "Step 10: Create BMW object and call start_engine()."
      ],
      "metadata": {
        "id": "CeT0tydgDZJB"
      },
      "execution_count": null,
      "outputs": []
    },
    {
      "cell_type": "markdown",
      "source": [
        "**7.3 Formal/Structured Pseudocode**"
      ],
      "metadata": {
        "id": "e_w_hwuKEXcg"
      }
    },
    {
      "cell_type": "code",
      "source": [
        "CLASS Car\n",
        "  PRIVATE brand, model, _engine_status, _idling_time, _traffic_signal\n",
        "\n",
        "  METHOD __init__(brand, model)\n",
        "    SET self.brand = brand\n",
        "    SET self.model = model\n",
        "    SET self._engine_status = False\n",
        "    SET self._idling_time = 0\n",
        "    SET self._traffic_signal = None\n",
        "\n",
        "  METHOD drive()\n",
        "    IF _engine_status == True AND _traffic_signal == \"green\"\n",
        "      PRINT \"Driving message\"\n",
        "    ELSE IF _traffic_signal == \"red\"\n",
        "      PRINT \"Red light message\"\n",
        "      CALL _idle_stop_engine()\n",
        "    ELSE\n",
        "      CALL _start_engine()\n",
        "      PRINT \"Driving message\"\n",
        "\n",
        "  METHOD stop()\n",
        "    IF _engine_status == True\n",
        "      PRINT \"Stopped message\"\n",
        "      CALL _idle_stop_engine()\n",
        "    ELSE\n",
        "      PRINT \"Already stopped\"\n",
        "\n",
        "  METHOD set_traffic_signal(signal)\n",
        "    SET _traffic_signal = signal\n",
        "    IF signal == \"red\"\n",
        "      PRINT \"Signal red message\"\n",
        "      CALL _idle_stop_engine()\n",
        "    ELSE IF signal == \"green\"\n",
        "      PRINT \"Signal green message\"\n",
        "      IF _engine_status == False\n",
        "        CALL _start_engine()\n",
        "\n",
        "  PRIVATE METHOD _start_engine()\n",
        "    SET _engine_status = True\n",
        "    SET _idling_time = 0\n",
        "    PRINT \"Engine started\"\n",
        "\n",
        "  PRIVATE METHOD _idle_stop_engine()\n",
        "    FOR i FROM 1 TO 5\n",
        "      PRINT \"Idling time: i seconds\"\n",
        "      WAIT 1 second\n",
        "      INCREMENT _idling_time\n",
        "    IF _idling_time >= 5\n",
        "      SET _engine_status = False\n",
        "      PRINT \"Engine stopped (idle stop)\"\n",
        "\n",
        "END CLASS\n",
        "\n",
        "CLASS ShoppingMall\n",
        "  STATIC METHOD basement_parking()\n",
        "    CREATE my_car AS Car(\"Toyota\", \"Camry\")\n",
        "    CALL my_car._start_engine()\n",
        "\n",
        "END CLASS\n",
        "\n",
        "CLASS BMW EXTENDS Car\n",
        "  METHOD __init__(brand, model)\n",
        "    CALL super().__init__(brand, model)\n",
        "\n",
        "  METHOD start_engine()\n",
        "    CALL self._start_engine()\n",
        "\n",
        "  METHOD _start_engine()\n",
        "    PRINT \"BMW engine started\"\n",
        "\n",
        "END CLASS\n",
        "\n",
        "MAIN PROGRAM\n",
        "  CREATE my_car AS Car(\"Toyota\", \"Camry\")\n",
        "  CALL my_car.set_traffic_signal(\"green\")\n",
        "  CALL my_car.drive()\n",
        "  CALL my_car.set_traffic_signal(\"red\")\n",
        "  CALL my_car.set_traffic_signal(\"green\")\n",
        "  CALL my_car.drive()\n",
        "\n",
        "  CALL ShoppingMall.basement_parking()\n",
        "\n",
        "  CREATE bmw AS BMW(\"BMW\", \"i5\")\n",
        "  CALL bmw.start_engine()\n"
      ],
      "metadata": {
        "id": "PE_mpzw1EZHD"
      },
      "execution_count": null,
      "outputs": []
    },
    {
      "cell_type": "markdown",
      "source": [
        "**8. Source Code**"
      ],
      "metadata": {
        "id": "_F16JYe6fJ-e"
      }
    },
    {
      "cell_type": "code",
      "source": [
        "# Define a Car class with abstraction and idle stop engine feature\n",
        "from rich import print\n",
        "class Car:\n",
        "    def __init__(self, brand, model):\n",
        "        self.brand = brand\n",
        "        self.model = model\n",
        "        self._engine_status = False\n",
        "        self._idling_time = 0\n",
        "        self._traffic_signal = None\n",
        "\n",
        "    # Expose a drive method without revealing internal mechanics\n",
        "    def drive(self):\n",
        "        if self._engine_status and self._traffic_signal == \"green\":\n",
        "            print(f\"You are driving a {self.brand} {self.model}.\")\n",
        "        elif self._traffic_signal == \"red\":\n",
        "            print(f\"You stopped at the red light in a {self.brand} {self.model}.\")\n",
        "            self._idle_stop_engine()\n",
        "        else:\n",
        "            self._start_engine()\n",
        "            print(f\"You are driving a {self.brand} {self.model}.\")\n",
        "\n",
        "    # Expose a stop method to stop the car\n",
        "    def stop(self):\n",
        "        if self._engine_status:\n",
        "            print(f\"You stopped the {self.brand} {self.model}.\")\n",
        "            self._idle_stop_engine()\n",
        "        else:\n",
        "            print(f\"The {self.brand} {self.model} is already stopped.\")\n",
        "\n",
        "    # Expose a set_traffic_signal method to set the traffic signal\n",
        "    def set_traffic_signal(self, signal):\n",
        "        self._traffic_signal = signal\n",
        "        if signal == \"red\":\n",
        "            print(f\"Traffic signal turned red. You stopped in a {self.brand} {self.model}.\")\n",
        "            self._idle_stop_engine()\n",
        "        elif signal == \"green\":\n",
        "            print(f\"Traffic signal turned green. You can drive your {self.brand} {self.model}.\")\n",
        "            if not self._engine_status:\n",
        "                self._start_engine()\n",
        "\n",
        "    # Internal method to start the engine (hidden from user)\n",
        "    def _start_engine(self):\n",
        "        self._engine_status = True\n",
        "        self._idling_time = 0\n",
        "        print(\"Engine started.\")\n",
        "\n",
        "    # Internal method to stop the engine if idling for 5 seconds (hidden from user)\n",
        "    def _idle_stop_engine(self):\n",
        "        import time\n",
        "        print(\"Engine is idling...\")\n",
        "        for i in range(5):\n",
        "            print(f\"Idling time: {i+1} seconds\")\n",
        "            time.sleep(1)\n",
        "            self._idling_time += 1\n",
        "        if self._idling_time >= 5:\n",
        "            self._engine_status = False\n",
        "            print(\"Engine stopped (idle stop) to save fule.\")\n",
        "\n",
        "# Create a Car object and use the methods\n",
        "my_car = Car(\"Toyota\", \"Camry\")\n",
        "my_car.set_traffic_signal(\"green\")\n",
        "my_car.drive()\n",
        "my_car.set_traffic_signal(\"red\")\n",
        "my_car.set_traffic_signal(\"green\")\n",
        "my_car.drive()\n",
        "\n",
        "\n",
        "class ShoppingMall:\n",
        "  def basement_parking():\n",
        "    my_car = Car(\"Toyota\", \"Camry\")\n",
        "    my_car._start_engine()\n",
        "\n",
        "  basement_parking()\n",
        "\n",
        "class BMW(Car):\n",
        "  def __init__(self, brand, model):\n",
        "    super().__init__(brand, model)\n",
        "\n",
        "  def start_engine(self):\n",
        "    self._start_engine() # Car class private method is visible in child class\n",
        "\n",
        "  def _start_engine(self): # Overrides the parent method with the same name\n",
        "    print(\"BMW engine started\") # Even you can override it\n",
        "\n",
        "bmw: BMW = BMW(\"BMW\", \"i5\")\n",
        "bmw.start_engine()"
      ],
      "metadata": {
        "id": "INjXXvCTfTu-",
        "colab": {
          "base_uri": "https://localhost:8080/",
          "height": 273
        },
        "outputId": "0791620a-790c-4f60-96bf-9aeff38c7f34"
      },
      "execution_count": null,
      "outputs": [
        {
          "output_type": "display_data",
          "data": {
            "text/plain": [
              "Traffic signal turned green. You can drive your Toyota Camry.\n"
            ],
            "text/html": [
              "<pre style=\"white-space:pre;overflow-x:auto;line-height:normal;font-family:Menlo,'DejaVu Sans Mono',consolas,'Courier New',monospace\">Traffic signal turned green. You can drive your Toyota Camry.\n",
              "</pre>\n"
            ]
          },
          "metadata": {}
        },
        {
          "output_type": "display_data",
          "data": {
            "text/plain": [
              "Engine started.\n"
            ],
            "text/html": [
              "<pre style=\"white-space:pre;overflow-x:auto;line-height:normal;font-family:Menlo,'DejaVu Sans Mono',consolas,'Courier New',monospace\">Engine started.\n",
              "</pre>\n"
            ]
          },
          "metadata": {}
        },
        {
          "output_type": "display_data",
          "data": {
            "text/plain": [
              "You are driving a Toyota Camry.\n"
            ],
            "text/html": [
              "<pre style=\"white-space:pre;overflow-x:auto;line-height:normal;font-family:Menlo,'DejaVu Sans Mono',consolas,'Courier New',monospace\">You are driving a Toyota Camry.\n",
              "</pre>\n"
            ]
          },
          "metadata": {}
        },
        {
          "output_type": "display_data",
          "data": {
            "text/plain": [
              "Traffic signal turned red. You stopped in a Toyota Camry.\n"
            ],
            "text/html": [
              "<pre style=\"white-space:pre;overflow-x:auto;line-height:normal;font-family:Menlo,'DejaVu Sans Mono',consolas,'Courier New',monospace\">Traffic signal turned red. You stopped in a Toyota Camry.\n",
              "</pre>\n"
            ]
          },
          "metadata": {}
        },
        {
          "output_type": "display_data",
          "data": {
            "text/plain": [
              "Engine is idling\u001b[33m...\u001b[0m\n"
            ],
            "text/html": [
              "<pre style=\"white-space:pre;overflow-x:auto;line-height:normal;font-family:Menlo,'DejaVu Sans Mono',consolas,'Courier New',monospace\">Engine is idling<span style=\"color: #808000; text-decoration-color: #808000\">...</span>\n",
              "</pre>\n"
            ]
          },
          "metadata": {}
        },
        {
          "output_type": "display_data",
          "data": {
            "text/plain": [
              "Idling time: \u001b[1;36m1\u001b[0m seconds\n"
            ],
            "text/html": [
              "<pre style=\"white-space:pre;overflow-x:auto;line-height:normal;font-family:Menlo,'DejaVu Sans Mono',consolas,'Courier New',monospace\">Idling time: <span style=\"color: #008080; text-decoration-color: #008080; font-weight: bold\">1</span> seconds\n",
              "</pre>\n"
            ]
          },
          "metadata": {}
        },
        {
          "output_type": "display_data",
          "data": {
            "text/plain": [
              "Idling time: \u001b[1;36m2\u001b[0m seconds\n"
            ],
            "text/html": [
              "<pre style=\"white-space:pre;overflow-x:auto;line-height:normal;font-family:Menlo,'DejaVu Sans Mono',consolas,'Courier New',monospace\">Idling time: <span style=\"color: #008080; text-decoration-color: #008080; font-weight: bold\">2</span> seconds\n",
              "</pre>\n"
            ]
          },
          "metadata": {}
        },
        {
          "output_type": "display_data",
          "data": {
            "text/plain": [
              "Idling time: \u001b[1;36m3\u001b[0m seconds\n"
            ],
            "text/html": [
              "<pre style=\"white-space:pre;overflow-x:auto;line-height:normal;font-family:Menlo,'DejaVu Sans Mono',consolas,'Courier New',monospace\">Idling time: <span style=\"color: #008080; text-decoration-color: #008080; font-weight: bold\">3</span> seconds\n",
              "</pre>\n"
            ]
          },
          "metadata": {}
        },
        {
          "output_type": "display_data",
          "data": {
            "text/plain": [
              "Idling time: \u001b[1;36m4\u001b[0m seconds\n"
            ],
            "text/html": [
              "<pre style=\"white-space:pre;overflow-x:auto;line-height:normal;font-family:Menlo,'DejaVu Sans Mono',consolas,'Courier New',monospace\">Idling time: <span style=\"color: #008080; text-decoration-color: #008080; font-weight: bold\">4</span> seconds\n",
              "</pre>\n"
            ]
          },
          "metadata": {}
        },
        {
          "output_type": "display_data",
          "data": {
            "text/plain": [
              "Idling time: \u001b[1;36m5\u001b[0m seconds\n"
            ],
            "text/html": [
              "<pre style=\"white-space:pre;overflow-x:auto;line-height:normal;font-family:Menlo,'DejaVu Sans Mono',consolas,'Courier New',monospace\">Idling time: <span style=\"color: #008080; text-decoration-color: #008080; font-weight: bold\">5</span> seconds\n",
              "</pre>\n"
            ]
          },
          "metadata": {}
        },
        {
          "output_type": "display_data",
          "data": {
            "text/plain": [
              "Engine stopped \u001b[1m(\u001b[0midle stop\u001b[1m)\u001b[0m to save fule.\n"
            ],
            "text/html": [
              "<pre style=\"white-space:pre;overflow-x:auto;line-height:normal;font-family:Menlo,'DejaVu Sans Mono',consolas,'Courier New',monospace\">Engine stopped <span style=\"font-weight: bold\">(</span>idle stop<span style=\"font-weight: bold\">)</span> to save fule.\n",
              "</pre>\n"
            ]
          },
          "metadata": {}
        },
        {
          "output_type": "display_data",
          "data": {
            "text/plain": [
              "Traffic signal turned green. You can drive your Toyota Camry.\n"
            ],
            "text/html": [
              "<pre style=\"white-space:pre;overflow-x:auto;line-height:normal;font-family:Menlo,'DejaVu Sans Mono',consolas,'Courier New',monospace\">Traffic signal turned green. You can drive your Toyota Camry.\n",
              "</pre>\n"
            ]
          },
          "metadata": {}
        },
        {
          "output_type": "display_data",
          "data": {
            "text/plain": [
              "Engine started.\n"
            ],
            "text/html": [
              "<pre style=\"white-space:pre;overflow-x:auto;line-height:normal;font-family:Menlo,'DejaVu Sans Mono',consolas,'Courier New',monospace\">Engine started.\n",
              "</pre>\n"
            ]
          },
          "metadata": {}
        },
        {
          "output_type": "display_data",
          "data": {
            "text/plain": [
              "You are driving a Toyota Camry.\n"
            ],
            "text/html": [
              "<pre style=\"white-space:pre;overflow-x:auto;line-height:normal;font-family:Menlo,'DejaVu Sans Mono',consolas,'Courier New',monospace\">You are driving a Toyota Camry.\n",
              "</pre>\n"
            ]
          },
          "metadata": {}
        },
        {
          "output_type": "display_data",
          "data": {
            "text/plain": [
              "Engine started.\n"
            ],
            "text/html": [
              "<pre style=\"white-space:pre;overflow-x:auto;line-height:normal;font-family:Menlo,'DejaVu Sans Mono',consolas,'Courier New',monospace\">Engine started.\n",
              "</pre>\n"
            ]
          },
          "metadata": {}
        },
        {
          "output_type": "display_data",
          "data": {
            "text/plain": [
              "BMW engine started\n"
            ],
            "text/html": [
              "<pre style=\"white-space:pre;overflow-x:auto;line-height:normal;font-family:Menlo,'DejaVu Sans Mono',consolas,'Courier New',monospace\">BMW engine started\n",
              "</pre>\n"
            ]
          },
          "metadata": {}
        }
      ]
    }
  ]
}