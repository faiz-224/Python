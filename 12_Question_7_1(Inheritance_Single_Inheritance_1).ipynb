{
  "nbformat": 4,
  "nbformat_minor": 0,
  "metadata": {
    "colab": {
      "provenance": [],
      "authorship_tag": "ABX9TyMN7dx4yYqohbc8HRHz+QWI",
      "include_colab_link": true
    },
    "kernelspec": {
      "name": "python3",
      "display_name": "Python 3"
    },
    "language_info": {
      "name": "python"
    }
  },
  "cells": [
    {
      "cell_type": "markdown",
      "metadata": {
        "id": "view-in-github",
        "colab_type": "text"
      },
      "source": [
        "<a href=\"https://colab.research.google.com/github/faiz-224/Python/blob/main/12_Question_7_1(Inheritance_Single_Inheritance_1).ipynb\" target=\"_parent\"><img src=\"https://colab.research.google.com/assets/colab-badge.svg\" alt=\"Open In Colab\"/></a>"
      ]
    },
    {
      "cell_type": "markdown",
      "source": [
        "**1. Topic**\n",
        "\n",
        "Inheritance in Python OOP\n",
        "________________________________________\n",
        "**2. Heading**\n",
        "\n",
        "Basic Example of Single Inheritance with Method Inheritance\n",
        "________________________________________\n",
        "**3. Make Question from Code**\n",
        "\n",
        "Write a Python program where a Dog class inherits from an Animal class. The Animal class should have a constructor that takes a name and a method speak() that returns \"Animal sound\". Create a Dog object with the name \"Buddy\" and print its name and the sound it makes.\n",
        "________________________________________\n",
        "**4. Brief Summary**\n",
        "\n",
        "This code demonstrates single inheritance in Python. The Dog class inherits from the Animal class but does not override any method. Hence, it inherits the speak() method from Animal. The Dog instance uses both the inherited constructor and the method from the parent class.\n",
        "\n"
      ],
      "metadata": {
        "id": "f_-UZlwed7IQ"
      }
    },
    {
      "cell_type": "markdown",
      "source": [
        "**5. Text-based Use Case Diagram**"
      ],
      "metadata": {
        "id": "NIVhT04GfhlR"
      }
    },
    {
      "cell_type": "code",
      "source": [
        "[User] --> (Creates Dog Object)\n",
        "[User] --> (Calls speak() method)\n",
        "\n",
        "(Dog) --> (Inherits from Animal)\n",
        "(Animal) --> (Provides speak() method)\n"
      ],
      "metadata": {
        "id": "Wx14mMYEfnAi"
      },
      "execution_count": null,
      "outputs": []
    },
    {
      "cell_type": "markdown",
      "source": [
        "**6. Text-based UML**"
      ],
      "metadata": {
        "id": "igLwwztJfqK4"
      }
    },
    {
      "cell_type": "code",
      "source": [
        "+----------------+\n",
        "|   Animal       |\n",
        "+----------------+\n",
        "| - name         |\n",
        "+----------------+\n",
        "| +__init__(name)|\n",
        "| +speak()       |\n",
        "+----------------+\n",
        "        ^\n",
        "        |\n",
        "+----------------+\n",
        "|     Dog        |\n",
        "+----------------+\n",
        "| (inherits all) |\n",
        "+----------------+\n"
      ],
      "metadata": {
        "id": "TKVfwxHgfqc_"
      },
      "execution_count": null,
      "outputs": []
    },
    {
      "cell_type": "markdown",
      "source": [
        "**7. Pseudocode**"
      ],
      "metadata": {
        "id": "OBQ_zs1TfweA"
      }
    },
    {
      "cell_type": "markdown",
      "source": [
        "**7.1 Informal Pseudocode (Plain English)**"
      ],
      "metadata": {
        "id": "-bbvZJR7ydxV"
      }
    },
    {
      "cell_type": "code",
      "source": [
        "Define a class called Animal with an initializer to set the name.\n",
        "\n",
        "Define a method in Animal class called speak that returns \"Animal sound\".\n",
        "\n",
        "Create a class called Dog that inherits from Animal.\n",
        "\n",
        "Create an instance of Dog with the name \"Buddy\".\n",
        "\n",
        "Print the name of the dog and the sound it makes using the inherited speak method.\n"
      ],
      "metadata": {
        "id": "34Qw4rMefxbP"
      },
      "execution_count": null,
      "outputs": []
    },
    {
      "cell_type": "markdown",
      "source": [
        "**7.2 Flowchart-Oriented Pseudocode (Step 1, 2, 3...)**"
      ],
      "metadata": {
        "id": "hNE-u1hXyktF"
      }
    },
    {
      "cell_type": "code",
      "source": [
        "1.\tStart\n",
        "\n",
        "2.\tDefine Animal class\n",
        "\n",
        "3.\tDefine __init__ method to initialize name\n",
        "\n",
        "4.\tDefine speak() method that returns \"Animal sound\"\n",
        "\n",
        "5.\tDefine Dog class that inherits from Animal\n",
        "\n",
        "6.\tCreate object dog of class Dog with name \"Buddy\"\n",
        "\n",
        "7.\tCall dog.name → Get \"Buddy\"\n",
        "\n",
        "8.\tCall dog.speak() → Get \"Animal sound\"\n",
        "\n",
        "9.\tPrint result: \"Buddy says Animal sound\"\n",
        "\n",
        "10.\tEnd\n"
      ],
      "metadata": {
        "id": "qsR2x5wjyoMU"
      },
      "execution_count": null,
      "outputs": []
    },
    {
      "cell_type": "markdown",
      "source": [
        "**7.3 Formal/Structured Pseudocode**"
      ],
      "metadata": {
        "id": "QQ-eL9Pl1Vq8"
      }
    },
    {
      "cell_type": "code",
      "source": [
        "CLASS Animal\n",
        "    METHOD __init__(name)\n",
        "        SET self.name TO name\n",
        "    METHOD speak()\n",
        "        RETURN \"Animal sound\"\n",
        "\n",
        "CLASS Dog EXTENDS Animal\n",
        "    PASS\n",
        "\n",
        "BEGIN\n",
        "    CREATE dog AS Dog WITH name \"Buddy\"\n",
        "    PRINT dog.name + \" says \" + dog.speak()\n",
        "END\n"
      ],
      "metadata": {
        "id": "WIb9K9ZL1YN0"
      },
      "execution_count": null,
      "outputs": []
    },
    {
      "cell_type": "markdown",
      "source": [
        "**8. Source Code**"
      ],
      "metadata": {
        "id": "iBWpjei3fznJ"
      }
    },
    {
      "cell_type": "code",
      "source": [
        "# Parent class\n",
        "class Animal:\n",
        "    def __init__(self, name):\n",
        "        self.name = name\n",
        "\n",
        "    def speak(self):\n",
        "        return \"Animal sound\"\n",
        "\n",
        "# Child class (inherits from Animal)\n",
        "class Dog(Animal):\n",
        "    pass\n",
        "\n",
        "# Create an instance of the Dog class\n",
        "dog = Dog(\"Buddy\")\n",
        "print(f\"{dog.name} says {dog.speak()}\")  # Output: Buddy says Animal sound"
      ],
      "metadata": {
        "id": "7g_RctZ-f03_",
        "colab": {
          "base_uri": "https://localhost:8080/"
        },
        "outputId": "ab2b35ba-4f28-4bb6-e5c1-c58aeb4c894e"
      },
      "execution_count": null,
      "outputs": [
        {
          "output_type": "stream",
          "name": "stdout",
          "text": [
            "Buddy says Animal sound\n"
          ]
        }
      ]
    }
  ]
}