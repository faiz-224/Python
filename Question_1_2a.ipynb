{
  "nbformat": 4,
  "nbformat_minor": 0,
  "metadata": {
    "colab": {
      "provenance": [],
      "authorship_tag": "ABX9TyPspFkDO00eL5F9jHQ4mLwO",
      "include_colab_link": true
    },
    "kernelspec": {
      "name": "python3",
      "display_name": "Python 3"
    },
    "language_info": {
      "name": "python"
    }
  },
  "cells": [
    {
      "cell_type": "markdown",
      "metadata": {
        "id": "view-in-github",
        "colab_type": "text"
      },
      "source": [
        "<a href=\"https://colab.research.google.com/github/faiz-224/Python/blob/main/Question_1_2a.ipynb\" target=\"_parent\"><img src=\"https://colab.research.google.com/assets/colab-badge.svg\" alt=\"Open In Colab\"/></a>"
      ]
    },
    {
      "cell_type": "markdown",
      "source": [
        "**1. Topic**\n",
        "\n",
        "Object-Oriented Programming – Abstraction and Internal State Management in Python\n",
        "________________________________________\n",
        "**2. Heading**\n",
        "\n",
        "Designing a Car Class with Abstracted Drive Logic and Idle Engine Stop at Red Light\n",
        "________________________________________\n",
        "**3. Question from Code**\n",
        "\n",
        "Create a class Car with attributes for brand and model. Add public methods for driving, stopping, and handling traffic signals. Internally manage engine start/stop using private methods, and simulate engine idling behavior for 5 seconds at a red light. Use abstraction to hide the internal engine mechanisms from the user.\n",
        "________________________________________\n",
        "**4. Brief Summary**\n",
        "\n",
        "This Python code defines a Car class that uses abstraction to hide complex internal behaviors (like engine control and idle stopping). The user interacts with simple public methods: drive(), stop(), and set_traffic_signal(). Behind the scenes, private methods _start_engine() and _idle_stop_engine() handle engine status based on traffic light signals. The idling simulation uses a 5-second loop to determine when to shut off the engine to save fuel. This structure emphasizes encapsulation and abstraction in OOP.\n",
        "\n"
      ],
      "metadata": {
        "id": "rDlnNHWOPweV"
      }
    },
    {
      "cell_type": "markdown",
      "source": [
        "**5. Text-based Use Case Diagram**"
      ],
      "metadata": {
        "id": "a-qNWd9HQzCj"
      }
    },
    {
      "cell_type": "code",
      "source": [
        "Use Case: Abstract Car Driving with Idle Stop\n",
        "--------------------------------------------\n",
        "Actor: User\n",
        "\n",
        "Use Cases:\n",
        "- Create Car instance\n",
        "- Set traffic signal to red or green\n",
        "- Drive the car (if green)\n",
        "- Stop the car\n",
        "- Automatically stop engine after 5 seconds of red signal idling"
      ],
      "metadata": {
        "id": "E4zFEyYWQzZT"
      },
      "execution_count": null,
      "outputs": []
    },
    {
      "cell_type": "markdown",
      "source": [
        "**6. Text-based UML**"
      ],
      "metadata": {
        "id": "MG_MfScARP5c"
      }
    },
    {
      "cell_type": "code",
      "source": [
        "+---------------------------------+\n",
        "|             Car                 |\n",
        "+---------------------------------+\n",
        "| + brand: str                    |\n",
        "| + model: str                    |\n",
        "| - _engine_status: bool          |\n",
        "| - _idling_time: int             |\n",
        "| - _traffic_signal: str or None  |\n",
        "+---------------------------------+\n",
        "| + __init__(brand, model)        |\n",
        "| + drive(): None                 |\n",
        "| + stop(): None                  |\n",
        "| + set_traffic_signal(signal): None |\n",
        "| - _start_engine(): None         |\n",
        "| - _idle_stop_engine(): None     |\n",
        "+---------------------------------+"
      ],
      "metadata": {
        "id": "wpqwIi-URWsT"
      },
      "execution_count": null,
      "outputs": []
    },
    {
      "cell_type": "markdown",
      "source": [
        "**7. Pseudocode**"
      ],
      "metadata": {
        "id": "dMMcMtYcRXZ5"
      }
    },
    {
      "cell_type": "markdown",
      "source": [
        "**7.1 Informal Pseudocode (Plain English Numbered)**"
      ],
      "metadata": {
        "id": "GDD8MWg2FnKS"
      }
    },
    {
      "cell_type": "code",
      "source": [
        "1  Create a Car class with brand and model as properties.\n",
        "2  Initialize the engine status as off, idling time as 0, and no traffic signal.\n",
        "3  Define drive():\n",
        "    •\tIf engine is on and signal is green, print driving message.\n",
        "    •\tIf signal is red, print stopped message and call idle stop.\n",
        "    •\tElse, start the engine and print driving message.\n",
        "4  Define stop():\n",
        "    •\tIf engine is on, print stopped message and call idle stop.\n",
        "    •\tElse, say car is already stopped.\n",
        "5  Define set_traffic_signal(signal):\n",
        "    •\tSet traffic signal.\n",
        "    •\tIf red, print red light message and idle stop.\n",
        "    •\tIf green and engine is off, start engine and print green signal message.\n",
        "6  Define _start_engine():\n",
        "    •\tSet engine on, reset idle time, and print message.\n",
        "7  Define _idle_stop_engine():\n",
        "    •\tWait for 5 seconds (simulate idling).\n",
        "    •\tAfter 5 seconds, stop engine and print idle stop message.\n",
        "8  Create a Car object with brand and model.\n",
        "9  Set traffic signal to green, drive, then to red, then back to green, and drive again."
      ],
      "metadata": {
        "id": "CYFWVgxPRbpp"
      },
      "execution_count": null,
      "outputs": []
    },
    {
      "cell_type": "markdown",
      "source": [
        "**7.2 Flowchart-Oriented Pseudocode (Step-by-Step)**"
      ],
      "metadata": {
        "id": "7dY137KDGM5p"
      }
    },
    {
      "cell_type": "code",
      "source": [
        "Step 1: Start\n",
        "Step 2: Create Car class with brand, model, and private engine properties\n",
        "Step 3: Define method drive():\n",
        "    └─ If engine ON and signal == green:\n",
        "            → Print \"Driving\"\n",
        "       Else if signal == red:\n",
        "            → Print \"Stopped at red\"\n",
        "            → Call idle_stop_engine()\n",
        "       Else:\n",
        "            → Call start_engine()\n",
        "            → Print \"Driving\"\n",
        "Step 4: Define stop():\n",
        "    └─ If engine ON:\n",
        "            → Print \"Stopped\"\n",
        "            → Call idle_stop_engine()\n",
        "       Else:\n",
        "            → Print \"Already stopped\"\n",
        "Step 5: Define set_traffic_signal(signal):\n",
        "    └─ Set _traffic_signal = signal\n",
        "       If signal == red:\n",
        "            → Print red message\n",
        "            → Call idle_stop_engine()\n",
        "       Else if signal == green:\n",
        "            → Print green message\n",
        "            → If engine OFF:\n",
        "                → Call start_engine()\n",
        "Step 6: Define _start_engine():\n",
        "    └─ Set engine ON, idle_time = 0\n",
        "    └─ Print \"Engine started\"\n",
        "Step 7: Define _idle_stop_engine():\n",
        "    └─ For 5 seconds:\n",
        "            → Increment idle_time and print seconds\n",
        "    └─ After loop:\n",
        "            → If idle_time >= 5:\n",
        "                → Set engine OFF\n",
        "                → Print \"Idle engine stopped\"\n",
        "Step 8: Create Car object\n",
        "Step 9: Call set_traffic_signal(\"green\")\n",
        "Step 10: Call drive()\n",
        "Step 11: Call set_traffic_signal(\"red\")\n",
        "Step 12: Call set_traffic_signal(\"green\")\n",
        "Step 13: Call drive()\n",
        "Step 14: End"
      ],
      "metadata": {
        "id": "tX0QcorvGNwZ"
      },
      "execution_count": null,
      "outputs": []
    },
    {
      "cell_type": "markdown",
      "source": [
        "**7.3 Formal/Structured Pseudocode**"
      ],
      "metadata": {
        "id": "9rMBr4bjGYUo"
      }
    },
    {
      "cell_type": "code",
      "source": [
        "CLASS Car\n",
        "    PRIVATE brand, model\n",
        "    PRIVATE engine_status ← False\n",
        "    PRIVATE idling_time ← 0\n",
        "    PRIVATE traffic_signal ← None\n",
        "\n",
        "    METHOD __init__(brand, model)\n",
        "        SET self.brand ← brand\n",
        "        SET self.model ← model\n",
        "\n",
        "    METHOD drive()\n",
        "        IF engine_status = True AND traffic_signal = \"green\" THEN\n",
        "            PRINT \"Driving\"\n",
        "        ELSE IF traffic_signal = \"red\" THEN\n",
        "            PRINT \"Stopped at red light\"\n",
        "            CALL _idle_stop_engine()\n",
        "        ELSE\n",
        "            CALL _start_engine()\n",
        "            PRINT \"Driving\"\n",
        "\n",
        "    METHOD stop()\n",
        "        IF engine_status = True THEN\n",
        "            PRINT \"Stopped\"\n",
        "            CALL _idle_stop_engine()\n",
        "        ELSE\n",
        "            PRINT \"Already stopped\"\n",
        "\n",
        "    METHOD set_traffic_signal(signal)\n",
        "        SET traffic_signal ← signal\n",
        "        IF signal = \"red\" THEN\n",
        "            PRINT \"Signal is red\"\n",
        "            CALL _idle_stop_engine()\n",
        "        ELSE IF signal = \"green\" THEN\n",
        "            PRINT \"Signal is green\"\n",
        "            IF engine_status = False THEN\n",
        "                CALL _start_engine()\n",
        "\n",
        "    METHOD _start_engine()\n",
        "        SET engine_status ← True\n",
        "        SET idling_time ← 0\n",
        "        PRINT \"Engine started\"\n",
        "\n",
        "    METHOD _idle_stop_engine()\n",
        "        FOR i ← 1 TO 5\n",
        "            WAIT 1 second\n",
        "            INCREMENT idling_time\n",
        "            PRINT \"Idling time: i seconds\"\n",
        "        END FOR\n",
        "        IF idling_time ≥ 5 THEN\n",
        "            SET engine_status ← False\n",
        "            PRINT \"Engine stopped due to idling\"\n",
        "\n",
        "END CLASS\n",
        "\n",
        "CREATE OBJECT my_car ← Car(\"Toyota\", \"Camry\")\n",
        "CALL my_car.set_traffic_signal(\"green\")\n",
        "CALL my_car.drive()\n",
        "CALL my_car.set_traffic_signal(\"red\")\n",
        "CALL my_car.set_traffic_signal(\"green\")\n",
        "CALL my_car.drive()\n"
      ],
      "metadata": {
        "id": "AuAHuxD1GZ5C"
      },
      "execution_count": null,
      "outputs": []
    },
    {
      "cell_type": "markdown",
      "source": [
        "**8. Source Code**"
      ],
      "metadata": {
        "id": "eU_qLWmkSCUE"
      }
    },
    {
      "cell_type": "code",
      "source": [
        "# Define a Car class with abstraction and idle stop engine feature\n",
        "from rich import print\n",
        "class Car:\n",
        "    def __init__(self, brand, model):\n",
        "        self.brand = brand\n",
        "        self.model = model\n",
        "        self._engine_status = False\n",
        "        self._idling_time = 0\n",
        "        self._traffic_signal = None\n",
        "\n",
        "    # Expose a drive method without revealing internal mechanics\n",
        "    def drive(self):\n",
        "        if self._engine_status and self._traffic_signal == \"green\":\n",
        "            print(f\"You are driving a {self.brand} {self.model}.\")\n",
        "        elif self._traffic_signal == \"red\":\n",
        "            print(f\"You stopped at the red light in a {self.brand} {self.model}.\")\n",
        "            self._idle_stop_engine()\n",
        "        else:\n",
        "            self._start_engine()\n",
        "            print(f\"You are driving a {self.brand} {self.model}.\")\n",
        "\n",
        "    # Expose a stop method to stop the car\n",
        "    def stop(self):\n",
        "        if self._engine_status:\n",
        "            print(f\"You stopped the {self.brand} {self.model}.\")\n",
        "            self._idle_stop_engine()\n",
        "        else:\n",
        "            print(f\"The {self.brand} {self.model} is already stopped.\")\n",
        "\n",
        "    # Expose a set_traffic_signal method to set the traffic signal\n",
        "    def set_traffic_signal(self, signal):\n",
        "        self._traffic_signal = signal\n",
        "        if signal == \"red\":\n",
        "            print(f\"Traffic signal turned red. You stopped in a {self.brand} {self.model}.\")\n",
        "            self._idle_stop_engine()\n",
        "        elif signal == \"green\":\n",
        "            print(f\"Traffic signal turned green. You can drive your {self.brand} {self.model}.\")\n",
        "            if not self._engine_status:\n",
        "                self._start_engine()\n",
        "\n",
        "    # Internal method to start the engine (hidden from user)\n",
        "    def _start_engine(self):\n",
        "        self._engine_status = True\n",
        "        self._idling_time = 0\n",
        "        print(\"Engine started.\")\n",
        "\n",
        "    # Internal method to stop the engine if idling for 5 seconds (hidden from user)\n",
        "    def _idle_stop_engine(self):\n",
        "        import time\n",
        "        print(\"Engine is idling...\")\n",
        "        for i in range(5):\n",
        "            print(f\"Idling time: {i+1} seconds\")\n",
        "            time.sleep(1)\n",
        "            self._idling_time += 1\n",
        "        if self._idling_time >= 5:\n",
        "            self._engine_status = False\n",
        "            print(\"Engine stopped (idle stop) to save fule.\")\n",
        "\n",
        "# Create a Car object and use the methods\n",
        "my_car = Car(\"Toyota\", \"Camry\")\n",
        "my_car.set_traffic_signal(\"green\")\n",
        "my_car.drive()\n",
        "my_car.set_traffic_signal(\"red\")\n",
        "my_car.set_traffic_signal(\"green\")\n",
        "my_car.drive()"
      ],
      "metadata": {
        "id": "7aiA_S_rRvU6",
        "outputId": "32f09188-978f-4c44-fffb-1d158c08db58",
        "colab": {
          "base_uri": "https://localhost:8080/",
          "height": 241
        }
      },
      "execution_count": null,
      "outputs": [
        {
          "output_type": "display_data",
          "data": {
            "text/plain": [
              "Traffic signal turned green. You can drive your Toyota Camry.\n"
            ],
            "text/html": [
              "<pre style=\"white-space:pre;overflow-x:auto;line-height:normal;font-family:Menlo,'DejaVu Sans Mono',consolas,'Courier New',monospace\">Traffic signal turned green. You can drive your Toyota Camry.\n",
              "</pre>\n"
            ]
          },
          "metadata": {}
        },
        {
          "output_type": "display_data",
          "data": {
            "text/plain": [
              "Engine started.\n"
            ],
            "text/html": [
              "<pre style=\"white-space:pre;overflow-x:auto;line-height:normal;font-family:Menlo,'DejaVu Sans Mono',consolas,'Courier New',monospace\">Engine started.\n",
              "</pre>\n"
            ]
          },
          "metadata": {}
        },
        {
          "output_type": "display_data",
          "data": {
            "text/plain": [
              "You are driving a Toyota Camry.\n"
            ],
            "text/html": [
              "<pre style=\"white-space:pre;overflow-x:auto;line-height:normal;font-family:Menlo,'DejaVu Sans Mono',consolas,'Courier New',monospace\">You are driving a Toyota Camry.\n",
              "</pre>\n"
            ]
          },
          "metadata": {}
        },
        {
          "output_type": "display_data",
          "data": {
            "text/plain": [
              "Traffic signal turned red. You stopped in a Toyota Camry.\n"
            ],
            "text/html": [
              "<pre style=\"white-space:pre;overflow-x:auto;line-height:normal;font-family:Menlo,'DejaVu Sans Mono',consolas,'Courier New',monospace\">Traffic signal turned red. You stopped in a Toyota Camry.\n",
              "</pre>\n"
            ]
          },
          "metadata": {}
        },
        {
          "output_type": "display_data",
          "data": {
            "text/plain": [
              "Engine is idling\u001b[33m...\u001b[0m\n"
            ],
            "text/html": [
              "<pre style=\"white-space:pre;overflow-x:auto;line-height:normal;font-family:Menlo,'DejaVu Sans Mono',consolas,'Courier New',monospace\">Engine is idling<span style=\"color: #808000; text-decoration-color: #808000\">...</span>\n",
              "</pre>\n"
            ]
          },
          "metadata": {}
        },
        {
          "output_type": "display_data",
          "data": {
            "text/plain": [
              "Idling time: \u001b[1;36m1\u001b[0m seconds\n"
            ],
            "text/html": [
              "<pre style=\"white-space:pre;overflow-x:auto;line-height:normal;font-family:Menlo,'DejaVu Sans Mono',consolas,'Courier New',monospace\">Idling time: <span style=\"color: #008080; text-decoration-color: #008080; font-weight: bold\">1</span> seconds\n",
              "</pre>\n"
            ]
          },
          "metadata": {}
        },
        {
          "output_type": "display_data",
          "data": {
            "text/plain": [
              "Idling time: \u001b[1;36m2\u001b[0m seconds\n"
            ],
            "text/html": [
              "<pre style=\"white-space:pre;overflow-x:auto;line-height:normal;font-family:Menlo,'DejaVu Sans Mono',consolas,'Courier New',monospace\">Idling time: <span style=\"color: #008080; text-decoration-color: #008080; font-weight: bold\">2</span> seconds\n",
              "</pre>\n"
            ]
          },
          "metadata": {}
        },
        {
          "output_type": "display_data",
          "data": {
            "text/plain": [
              "Idling time: \u001b[1;36m3\u001b[0m seconds\n"
            ],
            "text/html": [
              "<pre style=\"white-space:pre;overflow-x:auto;line-height:normal;font-family:Menlo,'DejaVu Sans Mono',consolas,'Courier New',monospace\">Idling time: <span style=\"color: #008080; text-decoration-color: #008080; font-weight: bold\">3</span> seconds\n",
              "</pre>\n"
            ]
          },
          "metadata": {}
        },
        {
          "output_type": "display_data",
          "data": {
            "text/plain": [
              "Idling time: \u001b[1;36m4\u001b[0m seconds\n"
            ],
            "text/html": [
              "<pre style=\"white-space:pre;overflow-x:auto;line-height:normal;font-family:Menlo,'DejaVu Sans Mono',consolas,'Courier New',monospace\">Idling time: <span style=\"color: #008080; text-decoration-color: #008080; font-weight: bold\">4</span> seconds\n",
              "</pre>\n"
            ]
          },
          "metadata": {}
        },
        {
          "output_type": "display_data",
          "data": {
            "text/plain": [
              "Idling time: \u001b[1;36m5\u001b[0m seconds\n"
            ],
            "text/html": [
              "<pre style=\"white-space:pre;overflow-x:auto;line-height:normal;font-family:Menlo,'DejaVu Sans Mono',consolas,'Courier New',monospace\">Idling time: <span style=\"color: #008080; text-decoration-color: #008080; font-weight: bold\">5</span> seconds\n",
              "</pre>\n"
            ]
          },
          "metadata": {}
        },
        {
          "output_type": "display_data",
          "data": {
            "text/plain": [
              "Engine stopped \u001b[1m(\u001b[0midle stop\u001b[1m)\u001b[0m to save fule.\n"
            ],
            "text/html": [
              "<pre style=\"white-space:pre;overflow-x:auto;line-height:normal;font-family:Menlo,'DejaVu Sans Mono',consolas,'Courier New',monospace\">Engine stopped <span style=\"font-weight: bold\">(</span>idle stop<span style=\"font-weight: bold\">)</span> to save fule.\n",
              "</pre>\n"
            ]
          },
          "metadata": {}
        },
        {
          "output_type": "display_data",
          "data": {
            "text/plain": [
              "Traffic signal turned green. You can drive your Toyota Camry.\n"
            ],
            "text/html": [
              "<pre style=\"white-space:pre;overflow-x:auto;line-height:normal;font-family:Menlo,'DejaVu Sans Mono',consolas,'Courier New',monospace\">Traffic signal turned green. You can drive your Toyota Camry.\n",
              "</pre>\n"
            ]
          },
          "metadata": {}
        },
        {
          "output_type": "display_data",
          "data": {
            "text/plain": [
              "Engine started.\n"
            ],
            "text/html": [
              "<pre style=\"white-space:pre;overflow-x:auto;line-height:normal;font-family:Menlo,'DejaVu Sans Mono',consolas,'Courier New',monospace\">Engine started.\n",
              "</pre>\n"
            ]
          },
          "metadata": {}
        },
        {
          "output_type": "display_data",
          "data": {
            "text/plain": [
              "You are driving a Toyota Camry.\n"
            ],
            "text/html": [
              "<pre style=\"white-space:pre;overflow-x:auto;line-height:normal;font-family:Menlo,'DejaVu Sans Mono',consolas,'Courier New',monospace\">You are driving a Toyota Camry.\n",
              "</pre>\n"
            ]
          },
          "metadata": {}
        }
      ]
    }
  ]
}